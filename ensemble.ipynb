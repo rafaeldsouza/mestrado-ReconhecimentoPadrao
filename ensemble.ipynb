{
  "nbformat": 4,
  "nbformat_minor": 0,
  "metadata": {
    "colab": {
      "name": "ensemble.ipynb",
      "provenance": [],
      "authorship_tag": "ABX9TyOWhzrzagcL/yrLSpEbgyUy",
      "include_colab_link": true
    },
    "kernelspec": {
      "name": "python3",
      "display_name": "Python 3"
    },
    "language_info": {
      "name": "python"
    }
  },
  "cells": [
    {
      "cell_type": "markdown",
      "metadata": {
        "id": "view-in-github",
        "colab_type": "text"
      },
      "source": [
        "<a href=\"https://colab.research.google.com/github/rafaeldsouza/mestrado-ReconhecimentoPadrao/blob/main/ensemble.ipynb\" target=\"_parent\"><img src=\"https://colab.research.google.com/assets/colab-badge.svg\" alt=\"Open In Colab\"/></a>"
      ]
    },
    {
      "cell_type": "markdown",
      "metadata": {
        "id": "uQfECi8RRXxS"
      },
      "source": [
        "**Aluno:** Rafael de Souza Conceição\n",
        "\n",
        "**Matéria:**Reconhecimento de Padrões - Francisco de Assis Boldt"
      ]
    },
    {
      "cell_type": "markdown",
      "metadata": {
        "id": "JaHPmXUVRVMZ"
      },
      "source": [
        "Em um Jupyter Notebook:\n",
        "\n",
        "Use uma base de dados para classificação com pelo menos 1000 amostras;\n",
        "Escolha pelo menos três algoritmos de classificação;\n",
        "Combine os classificadores de duas formas diferentes:\n",
        "Voting\n",
        "Stacking\n",
        "Use gridsearch (ou randomsearch) para ajustar tantos os classificadores fracos quanto o ensemble;\n",
        "Coloque o Jupyter Notebook no seu GitHub.\n",
        "A entrega da tarefa é um link para o Jupyter Notebook no seu GitHub."
      ]
    },
    {
      "cell_type": "code",
      "metadata": {
        "id": "fAAHJCYDRTik"
      },
      "source": [
        "from sklearn.datasets import fetch_lfw_people\n",
        "from sklearn.model_selection import train_test_split\n",
        "from sklearn.ensemble import RandomForestClassifier\n",
        "from sklearn.model_selection import GridSearchCV\n",
        "from sklearn.neighbors import KNeighborsClassifier\n",
        "from sklearn import preprocessing\n",
        "from sklearn.naive_bayes import GaussianNB\n",
        "import numpy as np\n",
        "import pandas as pd\n",
        "from sklearn.tree import DecisionTreeClassifier\n",
        "from xgboost import XGBClassifier\n",
        "from sklearn.ensemble import VotingClassifier\n",
        "from sklearn.pipeline import Pipeline\n",
        "from sklearn.model_selection import cross_validate\n",
        "from sklearn.ensemble import StackingClassifier"
      ],
      "execution_count": 1,
      "outputs": []
    },
    {
      "cell_type": "code",
      "metadata": {
        "colab": {
          "base_uri": "https://localhost:8080/"
        },
        "id": "UiBSirY_mR3M",
        "outputId": "8fab080b-2dd4-44d6-9930-1a32c02493c4"
      },
      "source": [
        "dataset = fetch_lfw_people(min_faces_per_person=70, resize=0.4)\n",
        "X, y = dataset.data, dataset.target\n",
        "X.shape, y.shape"
      ],
      "execution_count": 2,
      "outputs": [
        {
          "output_type": "execute_result",
          "data": {
            "text/plain": [
              "((1288, 1850), (1288,))"
            ]
          },
          "metadata": {
            "tags": []
          },
          "execution_count": 2
        }
      ]
    },
    {
      "cell_type": "code",
      "metadata": {
        "colab": {
          "base_uri": "https://localhost:8080/",
          "height": 245
        },
        "id": "F2P_MGPDoatN",
        "outputId": "bc58baaa-684c-40fe-e9c8-303d6c31f3b0"
      },
      "source": [
        "df = pd.DataFrame(np.c_[X,y])\n",
        "df.head()"
      ],
      "execution_count": 3,
      "outputs": [
        {
          "output_type": "execute_result",
          "data": {
            "text/html": [
              "<div>\n",
              "<style scoped>\n",
              "    .dataframe tbody tr th:only-of-type {\n",
              "        vertical-align: middle;\n",
              "    }\n",
              "\n",
              "    .dataframe tbody tr th {\n",
              "        vertical-align: top;\n",
              "    }\n",
              "\n",
              "    .dataframe thead th {\n",
              "        text-align: right;\n",
              "    }\n",
              "</style>\n",
              "<table border=\"1\" class=\"dataframe\">\n",
              "  <thead>\n",
              "    <tr style=\"text-align: right;\">\n",
              "      <th></th>\n",
              "      <th>0</th>\n",
              "      <th>1</th>\n",
              "      <th>2</th>\n",
              "      <th>3</th>\n",
              "      <th>4</th>\n",
              "      <th>5</th>\n",
              "      <th>6</th>\n",
              "      <th>7</th>\n",
              "      <th>8</th>\n",
              "      <th>9</th>\n",
              "      <th>10</th>\n",
              "      <th>11</th>\n",
              "      <th>12</th>\n",
              "      <th>13</th>\n",
              "      <th>14</th>\n",
              "      <th>15</th>\n",
              "      <th>16</th>\n",
              "      <th>17</th>\n",
              "      <th>18</th>\n",
              "      <th>19</th>\n",
              "      <th>20</th>\n",
              "      <th>21</th>\n",
              "      <th>22</th>\n",
              "      <th>23</th>\n",
              "      <th>24</th>\n",
              "      <th>25</th>\n",
              "      <th>26</th>\n",
              "      <th>27</th>\n",
              "      <th>28</th>\n",
              "      <th>29</th>\n",
              "      <th>30</th>\n",
              "      <th>31</th>\n",
              "      <th>32</th>\n",
              "      <th>33</th>\n",
              "      <th>34</th>\n",
              "      <th>35</th>\n",
              "      <th>36</th>\n",
              "      <th>37</th>\n",
              "      <th>38</th>\n",
              "      <th>39</th>\n",
              "      <th>...</th>\n",
              "      <th>1811</th>\n",
              "      <th>1812</th>\n",
              "      <th>1813</th>\n",
              "      <th>1814</th>\n",
              "      <th>1815</th>\n",
              "      <th>1816</th>\n",
              "      <th>1817</th>\n",
              "      <th>1818</th>\n",
              "      <th>1819</th>\n",
              "      <th>1820</th>\n",
              "      <th>1821</th>\n",
              "      <th>1822</th>\n",
              "      <th>1823</th>\n",
              "      <th>1824</th>\n",
              "      <th>1825</th>\n",
              "      <th>1826</th>\n",
              "      <th>1827</th>\n",
              "      <th>1828</th>\n",
              "      <th>1829</th>\n",
              "      <th>1830</th>\n",
              "      <th>1831</th>\n",
              "      <th>1832</th>\n",
              "      <th>1833</th>\n",
              "      <th>1834</th>\n",
              "      <th>1835</th>\n",
              "      <th>1836</th>\n",
              "      <th>1837</th>\n",
              "      <th>1838</th>\n",
              "      <th>1839</th>\n",
              "      <th>1840</th>\n",
              "      <th>1841</th>\n",
              "      <th>1842</th>\n",
              "      <th>1843</th>\n",
              "      <th>1844</th>\n",
              "      <th>1845</th>\n",
              "      <th>1846</th>\n",
              "      <th>1847</th>\n",
              "      <th>1848</th>\n",
              "      <th>1849</th>\n",
              "      <th>1850</th>\n",
              "    </tr>\n",
              "  </thead>\n",
              "  <tbody>\n",
              "    <tr>\n",
              "      <th>0</th>\n",
              "      <td>254.000000</td>\n",
              "      <td>254.000000</td>\n",
              "      <td>251.666672</td>\n",
              "      <td>240.333328</td>\n",
              "      <td>185.333328</td>\n",
              "      <td>144.000000</td>\n",
              "      <td>174.000000</td>\n",
              "      <td>196.666672</td>\n",
              "      <td>196.000000</td>\n",
              "      <td>192.333328</td>\n",
              "      <td>193.333328</td>\n",
              "      <td>191.666672</td>\n",
              "      <td>187.666672</td>\n",
              "      <td>185.000000</td>\n",
              "      <td>181.000000</td>\n",
              "      <td>179.000000</td>\n",
              "      <td>181.000000</td>\n",
              "      <td>180.000000</td>\n",
              "      <td>178.333328</td>\n",
              "      <td>174.666672</td>\n",
              "      <td>171.666672</td>\n",
              "      <td>167.666672</td>\n",
              "      <td>166.000000</td>\n",
              "      <td>163.666672</td>\n",
              "      <td>160.666672</td>\n",
              "      <td>154.666672</td>\n",
              "      <td>150.000000</td>\n",
              "      <td>148.333328</td>\n",
              "      <td>146.333328</td>\n",
              "      <td>145.666672</td>\n",
              "      <td>139.333328</td>\n",
              "      <td>129.666672</td>\n",
              "      <td>111.333336</td>\n",
              "      <td>89.666664</td>\n",
              "      <td>65.333336</td>\n",
              "      <td>50.666668</td>\n",
              "      <td>40.333332</td>\n",
              "      <td>253.333328</td>\n",
              "      <td>251.333328</td>\n",
              "      <td>247.333328</td>\n",
              "      <td>...</td>\n",
              "      <td>92.000000</td>\n",
              "      <td>86.333336</td>\n",
              "      <td>59.333332</td>\n",
              "      <td>44.333332</td>\n",
              "      <td>32.333332</td>\n",
              "      <td>26.666666</td>\n",
              "      <td>27.000000</td>\n",
              "      <td>26.333334</td>\n",
              "      <td>30.666666</td>\n",
              "      <td>109.333336</td>\n",
              "      <td>148.333328</td>\n",
              "      <td>161.000000</td>\n",
              "      <td>161.666672</td>\n",
              "      <td>150.666672</td>\n",
              "      <td>145.333328</td>\n",
              "      <td>143.000000</td>\n",
              "      <td>146.333328</td>\n",
              "      <td>147.000000</td>\n",
              "      <td>143.000000</td>\n",
              "      <td>141.333328</td>\n",
              "      <td>139.0</td>\n",
              "      <td>134.666672</td>\n",
              "      <td>126.666664</td>\n",
              "      <td>120.666664</td>\n",
              "      <td>114.666664</td>\n",
              "      <td>109.000000</td>\n",
              "      <td>103.000000</td>\n",
              "      <td>97.666664</td>\n",
              "      <td>100.333336</td>\n",
              "      <td>102.333336</td>\n",
              "      <td>100.000000</td>\n",
              "      <td>99.000000</td>\n",
              "      <td>95.666664</td>\n",
              "      <td>92.333336</td>\n",
              "      <td>90.666664</td>\n",
              "      <td>89.666664</td>\n",
              "      <td>87.333336</td>\n",
              "      <td>88.666664</td>\n",
              "      <td>86.666664</td>\n",
              "      <td>5.0</td>\n",
              "    </tr>\n",
              "    <tr>\n",
              "      <th>1</th>\n",
              "      <td>39.666668</td>\n",
              "      <td>50.333332</td>\n",
              "      <td>47.000000</td>\n",
              "      <td>54.666668</td>\n",
              "      <td>99.000000</td>\n",
              "      <td>120.666664</td>\n",
              "      <td>139.666672</td>\n",
              "      <td>157.666672</td>\n",
              "      <td>171.000000</td>\n",
              "      <td>177.666672</td>\n",
              "      <td>184.000000</td>\n",
              "      <td>189.333328</td>\n",
              "      <td>194.666672</td>\n",
              "      <td>200.666672</td>\n",
              "      <td>201.000000</td>\n",
              "      <td>201.000000</td>\n",
              "      <td>197.666672</td>\n",
              "      <td>194.000000</td>\n",
              "      <td>193.666672</td>\n",
              "      <td>191.333328</td>\n",
              "      <td>188.666672</td>\n",
              "      <td>185.333328</td>\n",
              "      <td>182.333328</td>\n",
              "      <td>177.666672</td>\n",
              "      <td>171.000000</td>\n",
              "      <td>164.333328</td>\n",
              "      <td>159.333328</td>\n",
              "      <td>161.666672</td>\n",
              "      <td>161.333328</td>\n",
              "      <td>152.666672</td>\n",
              "      <td>132.666672</td>\n",
              "      <td>108.333336</td>\n",
              "      <td>83.666664</td>\n",
              "      <td>65.000000</td>\n",
              "      <td>61.333332</td>\n",
              "      <td>51.000000</td>\n",
              "      <td>38.666668</td>\n",
              "      <td>47.666668</td>\n",
              "      <td>63.000000</td>\n",
              "      <td>65.333336</td>\n",
              "      <td>...</td>\n",
              "      <td>116.000000</td>\n",
              "      <td>116.333336</td>\n",
              "      <td>77.333336</td>\n",
              "      <td>76.333336</td>\n",
              "      <td>75.666664</td>\n",
              "      <td>78.333336</td>\n",
              "      <td>77.666664</td>\n",
              "      <td>74.000000</td>\n",
              "      <td>59.333332</td>\n",
              "      <td>30.333334</td>\n",
              "      <td>24.666666</td>\n",
              "      <td>84.000000</td>\n",
              "      <td>71.000000</td>\n",
              "      <td>44.000000</td>\n",
              "      <td>46.666668</td>\n",
              "      <td>56.000000</td>\n",
              "      <td>61.666668</td>\n",
              "      <td>67.000000</td>\n",
              "      <td>67.333336</td>\n",
              "      <td>69.000000</td>\n",
              "      <td>64.0</td>\n",
              "      <td>58.000000</td>\n",
              "      <td>51.666668</td>\n",
              "      <td>53.333332</td>\n",
              "      <td>54.000000</td>\n",
              "      <td>50.666668</td>\n",
              "      <td>43.666668</td>\n",
              "      <td>41.000000</td>\n",
              "      <td>40.000000</td>\n",
              "      <td>44.666668</td>\n",
              "      <td>59.666668</td>\n",
              "      <td>73.333336</td>\n",
              "      <td>77.666664</td>\n",
              "      <td>83.666664</td>\n",
              "      <td>103.333336</td>\n",
              "      <td>123.000000</td>\n",
              "      <td>117.666664</td>\n",
              "      <td>115.000000</td>\n",
              "      <td>133.666672</td>\n",
              "      <td>6.0</td>\n",
              "    </tr>\n",
              "    <tr>\n",
              "      <th>2</th>\n",
              "      <td>89.333336</td>\n",
              "      <td>104.000000</td>\n",
              "      <td>126.000000</td>\n",
              "      <td>141.333328</td>\n",
              "      <td>152.000000</td>\n",
              "      <td>155.333328</td>\n",
              "      <td>155.333328</td>\n",
              "      <td>160.000000</td>\n",
              "      <td>163.000000</td>\n",
              "      <td>166.666672</td>\n",
              "      <td>174.666672</td>\n",
              "      <td>179.666672</td>\n",
              "      <td>182.333328</td>\n",
              "      <td>185.666672</td>\n",
              "      <td>188.666672</td>\n",
              "      <td>193.333328</td>\n",
              "      <td>193.666672</td>\n",
              "      <td>193.333328</td>\n",
              "      <td>195.000000</td>\n",
              "      <td>196.333328</td>\n",
              "      <td>196.333328</td>\n",
              "      <td>197.333328</td>\n",
              "      <td>197.666672</td>\n",
              "      <td>197.666672</td>\n",
              "      <td>194.666672</td>\n",
              "      <td>191.333328</td>\n",
              "      <td>187.000000</td>\n",
              "      <td>186.666672</td>\n",
              "      <td>184.000000</td>\n",
              "      <td>169.000000</td>\n",
              "      <td>147.000000</td>\n",
              "      <td>166.000000</td>\n",
              "      <td>172.000000</td>\n",
              "      <td>159.666672</td>\n",
              "      <td>150.000000</td>\n",
              "      <td>150.333328</td>\n",
              "      <td>149.000000</td>\n",
              "      <td>100.000000</td>\n",
              "      <td>128.000000</td>\n",
              "      <td>143.666672</td>\n",
              "      <td>...</td>\n",
              "      <td>182.000000</td>\n",
              "      <td>181.333328</td>\n",
              "      <td>78.666664</td>\n",
              "      <td>66.000000</td>\n",
              "      <td>65.666664</td>\n",
              "      <td>67.000000</td>\n",
              "      <td>57.000000</td>\n",
              "      <td>74.666664</td>\n",
              "      <td>95.000000</td>\n",
              "      <td>57.666668</td>\n",
              "      <td>87.333336</td>\n",
              "      <td>92.333336</td>\n",
              "      <td>109.333336</td>\n",
              "      <td>132.666672</td>\n",
              "      <td>79.000000</td>\n",
              "      <td>66.666664</td>\n",
              "      <td>47.666668</td>\n",
              "      <td>91.000000</td>\n",
              "      <td>82.666664</td>\n",
              "      <td>89.000000</td>\n",
              "      <td>91.0</td>\n",
              "      <td>100.333336</td>\n",
              "      <td>111.666664</td>\n",
              "      <td>116.333336</td>\n",
              "      <td>118.666664</td>\n",
              "      <td>119.000000</td>\n",
              "      <td>123.333336</td>\n",
              "      <td>128.333328</td>\n",
              "      <td>129.666672</td>\n",
              "      <td>125.000000</td>\n",
              "      <td>111.666664</td>\n",
              "      <td>100.333336</td>\n",
              "      <td>106.666664</td>\n",
              "      <td>125.000000</td>\n",
              "      <td>117.666664</td>\n",
              "      <td>125.000000</td>\n",
              "      <td>175.333328</td>\n",
              "      <td>183.333328</td>\n",
              "      <td>183.000000</td>\n",
              "      <td>3.0</td>\n",
              "    </tr>\n",
              "    <tr>\n",
              "      <th>3</th>\n",
              "      <td>16.666666</td>\n",
              "      <td>7.666667</td>\n",
              "      <td>7.000000</td>\n",
              "      <td>6.000000</td>\n",
              "      <td>16.333334</td>\n",
              "      <td>70.000000</td>\n",
              "      <td>170.000000</td>\n",
              "      <td>169.666672</td>\n",
              "      <td>161.000000</td>\n",
              "      <td>106.333336</td>\n",
              "      <td>97.666664</td>\n",
              "      <td>141.333328</td>\n",
              "      <td>118.000000</td>\n",
              "      <td>101.333336</td>\n",
              "      <td>111.666664</td>\n",
              "      <td>135.000000</td>\n",
              "      <td>157.666672</td>\n",
              "      <td>148.000000</td>\n",
              "      <td>144.666672</td>\n",
              "      <td>152.666672</td>\n",
              "      <td>171.000000</td>\n",
              "      <td>182.000000</td>\n",
              "      <td>177.333328</td>\n",
              "      <td>163.333328</td>\n",
              "      <td>126.000000</td>\n",
              "      <td>106.333336</td>\n",
              "      <td>158.666672</td>\n",
              "      <td>185.000000</td>\n",
              "      <td>183.333328</td>\n",
              "      <td>177.000000</td>\n",
              "      <td>130.666672</td>\n",
              "      <td>39.333332</td>\n",
              "      <td>9.666667</td>\n",
              "      <td>7.000000</td>\n",
              "      <td>7.000000</td>\n",
              "      <td>6.333333</td>\n",
              "      <td>5.666667</td>\n",
              "      <td>70.000000</td>\n",
              "      <td>36.666668</td>\n",
              "      <td>14.000000</td>\n",
              "      <td>...</td>\n",
              "      <td>42.333332</td>\n",
              "      <td>55.666668</td>\n",
              "      <td>70.333336</td>\n",
              "      <td>63.333332</td>\n",
              "      <td>59.000000</td>\n",
              "      <td>57.000000</td>\n",
              "      <td>48.666668</td>\n",
              "      <td>37.666668</td>\n",
              "      <td>32.333332</td>\n",
              "      <td>26.000000</td>\n",
              "      <td>52.333332</td>\n",
              "      <td>184.000000</td>\n",
              "      <td>227.666672</td>\n",
              "      <td>224.333328</td>\n",
              "      <td>214.000000</td>\n",
              "      <td>193.000000</td>\n",
              "      <td>156.000000</td>\n",
              "      <td>105.333336</td>\n",
              "      <td>73.666664</td>\n",
              "      <td>66.333336</td>\n",
              "      <td>64.0</td>\n",
              "      <td>61.333332</td>\n",
              "      <td>63.333332</td>\n",
              "      <td>72.000000</td>\n",
              "      <td>84.333336</td>\n",
              "      <td>72.666664</td>\n",
              "      <td>70.333336</td>\n",
              "      <td>78.666664</td>\n",
              "      <td>90.666664</td>\n",
              "      <td>126.000000</td>\n",
              "      <td>190.000000</td>\n",
              "      <td>230.000000</td>\n",
              "      <td>238.000000</td>\n",
              "      <td>239.333328</td>\n",
              "      <td>233.666672</td>\n",
              "      <td>134.000000</td>\n",
              "      <td>27.666666</td>\n",
              "      <td>38.000000</td>\n",
              "      <td>51.333332</td>\n",
              "      <td>1.0</td>\n",
              "    </tr>\n",
              "    <tr>\n",
              "      <th>4</th>\n",
              "      <td>122.666664</td>\n",
              "      <td>121.000000</td>\n",
              "      <td>126.666664</td>\n",
              "      <td>129.333328</td>\n",
              "      <td>129.333328</td>\n",
              "      <td>134.666672</td>\n",
              "      <td>142.000000</td>\n",
              "      <td>142.666672</td>\n",
              "      <td>147.333328</td>\n",
              "      <td>152.000000</td>\n",
              "      <td>153.666672</td>\n",
              "      <td>157.666672</td>\n",
              "      <td>166.000000</td>\n",
              "      <td>169.333328</td>\n",
              "      <td>165.333328</td>\n",
              "      <td>164.333328</td>\n",
              "      <td>166.666672</td>\n",
              "      <td>164.333328</td>\n",
              "      <td>160.666672</td>\n",
              "      <td>156.666672</td>\n",
              "      <td>155.000000</td>\n",
              "      <td>151.333328</td>\n",
              "      <td>147.666672</td>\n",
              "      <td>146.000000</td>\n",
              "      <td>141.333328</td>\n",
              "      <td>138.333328</td>\n",
              "      <td>136.000000</td>\n",
              "      <td>131.000000</td>\n",
              "      <td>119.000000</td>\n",
              "      <td>102.333336</td>\n",
              "      <td>85.000000</td>\n",
              "      <td>88.333336</td>\n",
              "      <td>102.666664</td>\n",
              "      <td>79.333336</td>\n",
              "      <td>69.000000</td>\n",
              "      <td>61.666668</td>\n",
              "      <td>58.000000</td>\n",
              "      <td>121.666664</td>\n",
              "      <td>117.666664</td>\n",
              "      <td>125.333336</td>\n",
              "      <td>...</td>\n",
              "      <td>45.666668</td>\n",
              "      <td>53.666668</td>\n",
              "      <td>20.333334</td>\n",
              "      <td>21.000000</td>\n",
              "      <td>19.666666</td>\n",
              "      <td>16.000000</td>\n",
              "      <td>17.000000</td>\n",
              "      <td>45.333332</td>\n",
              "      <td>74.000000</td>\n",
              "      <td>101.666664</td>\n",
              "      <td>114.333336</td>\n",
              "      <td>122.000000</td>\n",
              "      <td>126.333336</td>\n",
              "      <td>120.000000</td>\n",
              "      <td>103.666664</td>\n",
              "      <td>81.000000</td>\n",
              "      <td>77.333336</td>\n",
              "      <td>100.000000</td>\n",
              "      <td>114.666664</td>\n",
              "      <td>114.000000</td>\n",
              "      <td>114.0</td>\n",
              "      <td>116.333336</td>\n",
              "      <td>117.333336</td>\n",
              "      <td>111.666664</td>\n",
              "      <td>109.666664</td>\n",
              "      <td>112.666664</td>\n",
              "      <td>106.000000</td>\n",
              "      <td>84.333336</td>\n",
              "      <td>50.666668</td>\n",
              "      <td>31.000000</td>\n",
              "      <td>17.666666</td>\n",
              "      <td>6.666667</td>\n",
              "      <td>5.666667</td>\n",
              "      <td>5.666667</td>\n",
              "      <td>10.333333</td>\n",
              "      <td>10.666667</td>\n",
              "      <td>22.000000</td>\n",
              "      <td>61.666668</td>\n",
              "      <td>70.666664</td>\n",
              "      <td>0.0</td>\n",
              "    </tr>\n",
              "  </tbody>\n",
              "</table>\n",
              "<p>5 rows × 1851 columns</p>\n",
              "</div>"
            ],
            "text/plain": [
              "         0           1           2     ...        1848        1849  1850\n",
              "0  254.000000  254.000000  251.666672  ...   88.666664   86.666664   5.0\n",
              "1   39.666668   50.333332   47.000000  ...  115.000000  133.666672   6.0\n",
              "2   89.333336  104.000000  126.000000  ...  183.333328  183.000000   3.0\n",
              "3   16.666666    7.666667    7.000000  ...   38.000000   51.333332   1.0\n",
              "4  122.666664  121.000000  126.666664  ...   61.666668   70.666664   0.0\n",
              "\n",
              "[5 rows x 1851 columns]"
            ]
          },
          "metadata": {
            "tags": []
          },
          "execution_count": 3
        }
      ]
    },
    {
      "cell_type": "code",
      "metadata": {
        "colab": {
          "base_uri": "https://localhost:8080/"
        },
        "id": "yJY1o22RosVW",
        "outputId": "c8e5b9ba-1e73-4d79-ea53-a4c5bf0a7e76"
      },
      "source": [
        "df.info()"
      ],
      "execution_count": 4,
      "outputs": [
        {
          "output_type": "stream",
          "text": [
            "<class 'pandas.core.frame.DataFrame'>\n",
            "RangeIndex: 1288 entries, 0 to 1287\n",
            "Columns: 1851 entries, 0 to 1850\n",
            "dtypes: float64(1851)\n",
            "memory usage: 18.2 MB\n"
          ],
          "name": "stdout"
        }
      ]
    },
    {
      "cell_type": "code",
      "metadata": {
        "colab": {
          "base_uri": "https://localhost:8080/"
        },
        "id": "gmnp5FZmmjW8",
        "outputId": "c34f3dda-c285-4419-f8b6-8caf7ce6eb42"
      },
      "source": [
        "X_tr, X_te, y_tr, y_te = train_test_split(X, y, random_state=42)\n",
        "X_tr.shape, X_te.shape, y_tr.shape, y_te.shape"
      ],
      "execution_count": 4,
      "outputs": [
        {
          "output_type": "execute_result",
          "data": {
            "text/plain": [
              "((966, 1850), (322, 1850), (966,), (322,))"
            ]
          },
          "metadata": {
            "tags": []
          },
          "execution_count": 4
        }
      ]
    },
    {
      "cell_type": "markdown",
      "metadata": {
        "id": "xixFA7GUzx9G"
      },
      "source": [
        "### RandomForest"
      ]
    },
    {
      "cell_type": "code",
      "metadata": {
        "colab": {
          "base_uri": "https://localhost:8080/"
        },
        "id": "6IkfzC_lnsIh",
        "outputId": "15c50a06-c39d-458c-996f-53c32c53d13b"
      },
      "source": [
        "modelo = RandomForestClassifier(random_state=42,max_features=0.30)\n",
        "modelo.fit(X_tr, y_tr)\n",
        "rf_pr = modelo.predict(X_te)\n",
        "rfhits = rf_pr == y_te\n",
        "sum(rfhits)/len(rfhits)"
      ],
      "execution_count": 35,
      "outputs": [
        {
          "output_type": "execute_result",
          "data": {
            "text/plain": [
              "0.7204968944099379"
            ]
          },
          "metadata": {
            "tags": []
          },
          "execution_count": 35
        }
      ]
    },
    {
      "cell_type": "markdown",
      "metadata": {
        "id": "zPekMHc10FCe"
      },
      "source": [
        "### KNeighbors\n"
      ]
    },
    {
      "cell_type": "code",
      "metadata": {
        "colab": {
          "base_uri": "https://localhost:8080/"
        },
        "id": "yJdPN22Q0D0M",
        "outputId": "c7207393-2bfc-42f1-ffda-31f90f2b516b"
      },
      "source": [
        "modelo = KNeighborsClassifier(n_neighbors=9)\n",
        "modelo.fit(X_tr, y_tr)\n",
        "knn_pr = modelo.predict(X_te)\n",
        "knnhits = knn_pr == y_te\n",
        "sum(knnhits)/len(knnhits)"
      ],
      "execution_count": 44,
      "outputs": [
        {
          "output_type": "execute_result",
          "data": {
            "text/plain": [
              "0.6211180124223602"
            ]
          },
          "metadata": {
            "tags": []
          },
          "execution_count": 44
        }
      ]
    },
    {
      "cell_type": "markdown",
      "metadata": {
        "id": "2vBKPv3a1fgA"
      },
      "source": [
        "### GaussianNB"
      ]
    },
    {
      "cell_type": "code",
      "metadata": {
        "colab": {
          "base_uri": "https://localhost:8080/"
        },
        "id": "sPb9QLKezgxn",
        "outputId": "33518d21-31af-4b9d-b638-39e9065d2a89"
      },
      "source": [
        "modelo = GaussianNB()\n",
        "modelo.fit(X_tr, y_tr)\n",
        "gnb_pr = modelo.predict(X_te)\n",
        "gnbhits = gnb_pr == y_te\n",
        "sum(gnbhits)/len(gnbhits)"
      ],
      "execution_count": 13,
      "outputs": [
        {
          "output_type": "execute_result",
          "data": {
            "text/plain": [
              "0.41304347826086957"
            ]
          },
          "metadata": {
            "tags": []
          },
          "execution_count": 13
        }
      ]
    },
    {
      "cell_type": "markdown",
      "metadata": {
        "id": "ROnBTAXz1bJV"
      },
      "source": [
        "### DecisionTree"
      ]
    },
    {
      "cell_type": "code",
      "metadata": {
        "colab": {
          "base_uri": "https://localhost:8080/"
        },
        "id": "mdQTt6in0zYK",
        "outputId": "d4441b96-29de-4951-804d-a35860b67f40"
      },
      "source": [
        "model_tree = DecisionTreeClassifier(random_state=42)\n",
        "model_tree.fit(X_tr, y_tr)\n",
        "tree_pr = model_tree.predict(X_te)\n",
        "treehits = tree_pr == y_te\n",
        "sum(treehits)/len(treehits)"
      ],
      "execution_count": 46,
      "outputs": [
        {
          "output_type": "execute_result",
          "data": {
            "text/plain": [
              "0.5248447204968945"
            ]
          },
          "metadata": {
            "tags": []
          },
          "execution_count": 46
        }
      ]
    },
    {
      "cell_type": "markdown",
      "metadata": {
        "id": "HzqzKyFV70Vm"
      },
      "source": [
        "### XGB"
      ]
    },
    {
      "cell_type": "code",
      "metadata": {
        "colab": {
          "base_uri": "https://localhost:8080/"
        },
        "id": "yj3oiaA16uhT",
        "outputId": "38306d09-20ac-494e-8a4e-7826fef26ad8"
      },
      "source": [
        "modelo = XGBClassifier(use_label_encoder=False, random_state=42)\n",
        "modelo.fit(X_tr, y_tr)\n",
        "xgb_pr = modelo.predict(X_te)\n",
        "xgbhits = xgb_pr == y_te\n",
        "xgbhits, sum(xgbhits)/len(xgbhits)"
      ],
      "execution_count": 27,
      "outputs": [
        {
          "output_type": "execute_result",
          "data": {
            "text/plain": [
              "(array([ True,  True,  True,  True,  True,  True, False,  True,  True,\n",
              "         True,  True,  True,  True, False,  True,  True,  True,  True,\n",
              "         True,  True,  True, False,  True, False,  True,  True, False,\n",
              "         True,  True,  True, False,  True,  True,  True,  True,  True,\n",
              "         True, False,  True, False,  True,  True,  True,  True,  True,\n",
              "         True,  True,  True, False,  True,  True,  True,  True,  True,\n",
              "        False,  True, False,  True,  True,  True,  True,  True, False,\n",
              "        False,  True,  True,  True,  True,  True,  True,  True,  True,\n",
              "         True,  True,  True,  True, False,  True, False,  True,  True,\n",
              "        False, False,  True,  True,  True,  True,  True,  True,  True,\n",
              "         True,  True,  True, False,  True, False,  True,  True, False,\n",
              "         True,  True, False,  True,  True,  True,  True,  True,  True,\n",
              "         True, False, False,  True, False,  True,  True, False,  True,\n",
              "        False,  True,  True,  True,  True,  True,  True,  True,  True,\n",
              "         True,  True,  True, False,  True,  True,  True, False, False,\n",
              "        False,  True,  True,  True,  True,  True,  True,  True,  True,\n",
              "         True, False,  True,  True, False,  True,  True,  True, False,\n",
              "         True,  True,  True,  True,  True,  True,  True,  True,  True,\n",
              "         True,  True,  True, False,  True,  True, False,  True, False,\n",
              "         True, False,  True, False, False,  True,  True, False, False,\n",
              "         True,  True,  True, False,  True,  True,  True,  True,  True,\n",
              "         True,  True,  True,  True, False,  True,  True,  True, False,\n",
              "         True,  True,  True,  True,  True,  True,  True,  True,  True,\n",
              "         True,  True, False, False, False, False,  True,  True,  True,\n",
              "         True, False, False,  True, False,  True,  True,  True, False,\n",
              "         True,  True,  True,  True,  True,  True,  True,  True,  True,\n",
              "         True, False, False,  True,  True,  True,  True, False, False,\n",
              "        False,  True,  True,  True,  True,  True, False,  True,  True,\n",
              "        False, False,  True,  True, False,  True, False, False, False,\n",
              "         True, False,  True,  True,  True, False,  True, False,  True,\n",
              "         True,  True,  True,  True,  True,  True, False,  True,  True,\n",
              "         True,  True, False,  True,  True,  True, False,  True,  True,\n",
              "         True,  True, False,  True,  True, False,  True, False,  True,\n",
              "        False,  True, False,  True, False, False,  True,  True,  True,\n",
              "         True, False,  True,  True,  True,  True,  True, False,  True,\n",
              "         True, False,  True,  True, False,  True, False]), 0.7453416149068323)"
            ]
          },
          "metadata": {
            "tags": []
          },
          "execution_count": 27
        }
      ]
    },
    {
      "cell_type": "markdown",
      "metadata": {
        "id": "Iv_i0MTa2CI9"
      },
      "source": [
        "## Combinação de classificadores"
      ]
    },
    {
      "cell_type": "markdown",
      "metadata": {
        "id": "0ntITn59AuNy"
      },
      "source": [
        "### Voting"
      ]
    },
    {
      "cell_type": "code",
      "metadata": {
        "colab": {
          "base_uri": "https://localhost:8080/"
        },
        "id": "bzZPHETS2Bq1",
        "outputId": "2bc13e25-a876-4ea6-8c50-eee0068b3fb9"
      },
      "source": [
        "\n",
        "voting = VotingClassifier([\n",
        "    ('knn', KNeighborsClassifier()),\n",
        "    ('xgb', XGBClassifier()),\n",
        "    ('randomforest', RandomForestClassifier())\n",
        "])\n",
        "    \n",
        "voting_params = {\n",
        "    'knn__n_neighbors': [9],\n",
        "    'xgb__use_label_encoder':[False],\n",
        "    'xgb__random_state':[42],\n",
        "    'randomforest__max_features':[0.30],\n",
        "    'randomforest__random_state': [42]\n",
        "}\n",
        "\n",
        "modelo = GridSearchCV(voting, param_grid=voting_params, cv=3,scoring=\"accuracy\")\n",
        "modelo.fit(X_tr, y_tr)\n",
        "voting_pr = modelo.predict(X_te)\n",
        "votinghits = voting_pr == y_te\n",
        "sum(votinghits)/len(votinghits)"
      ],
      "execution_count": 5,
      "outputs": [
        {
          "output_type": "execute_result",
          "data": {
            "text/plain": [
              "0.7267080745341615"
            ]
          },
          "metadata": {
            "tags": []
          },
          "execution_count": 5
        }
      ]
    },
    {
      "cell_type": "markdown",
      "metadata": {
        "id": "yQlWM-VmA1MC"
      },
      "source": [
        "### Stacking"
      ]
    },
    {
      "cell_type": "code",
      "metadata": {
        "colab": {
          "base_uri": "https://localhost:8080/"
        },
        "id": "2Cb1elaiA5iT",
        "outputId": "31627576-8f75-4fcc-b3bd-5d9afc91366c"
      },
      "source": [
        "stack = StackingClassifier([\n",
        "    ('knn', KNeighborsClassifier()),\n",
        "    ('xgb', XGBClassifier()),\n",
        "    ('randomforest', RandomForestClassifier())\n",
        "], cv=3, passthrough=True)\n",
        "\n",
        "stack_params = {\n",
        "    'knn__n_neighbors': [9],\n",
        "    'xgb__use_label_encoder':[False],\n",
        "    'xgb__random_state':[42],\n",
        "    'randomforest__max_features':[0.30],\n",
        "    'randomforest__random_state': [42]\n",
        "}\n",
        "\n",
        "modelo = GridSearchCV(stack, param_grid=stack_params, cv=3,scoring=\"accuracy\")\n",
        "\n",
        "modelo.fit(X_tr, y_tr) \n",
        "stack_pr = modelo.predict(X_te)\n",
        "stackhits = stack_pr == y_te\n",
        "sum(stackhits)/len(stackhits)"
      ],
      "execution_count": 6,
      "outputs": [
        {
          "output_type": "stream",
          "text": [
            "/usr/local/lib/python3.7/dist-packages/sklearn/linear_model/_logistic.py:940: ConvergenceWarning: lbfgs failed to converge (status=1):\n",
            "STOP: TOTAL NO. of ITERATIONS REACHED LIMIT.\n",
            "\n",
            "Increase the number of iterations (max_iter) or scale the data as shown in:\n",
            "    https://scikit-learn.org/stable/modules/preprocessing.html\n",
            "Please also refer to the documentation for alternative solver options:\n",
            "    https://scikit-learn.org/stable/modules/linear_model.html#logistic-regression\n",
            "  extra_warning_msg=_LOGISTIC_SOLVER_CONVERGENCE_MSG)\n",
            "/usr/local/lib/python3.7/dist-packages/sklearn/linear_model/_logistic.py:940: ConvergenceWarning: lbfgs failed to converge (status=1):\n",
            "STOP: TOTAL NO. of ITERATIONS REACHED LIMIT.\n",
            "\n",
            "Increase the number of iterations (max_iter) or scale the data as shown in:\n",
            "    https://scikit-learn.org/stable/modules/preprocessing.html\n",
            "Please also refer to the documentation for alternative solver options:\n",
            "    https://scikit-learn.org/stable/modules/linear_model.html#logistic-regression\n",
            "  extra_warning_msg=_LOGISTIC_SOLVER_CONVERGENCE_MSG)\n",
            "/usr/local/lib/python3.7/dist-packages/sklearn/linear_model/_logistic.py:940: ConvergenceWarning: lbfgs failed to converge (status=1):\n",
            "STOP: TOTAL NO. of ITERATIONS REACHED LIMIT.\n",
            "\n",
            "Increase the number of iterations (max_iter) or scale the data as shown in:\n",
            "    https://scikit-learn.org/stable/modules/preprocessing.html\n",
            "Please also refer to the documentation for alternative solver options:\n",
            "    https://scikit-learn.org/stable/modules/linear_model.html#logistic-regression\n",
            "  extra_warning_msg=_LOGISTIC_SOLVER_CONVERGENCE_MSG)\n",
            "/usr/local/lib/python3.7/dist-packages/sklearn/linear_model/_logistic.py:940: ConvergenceWarning: lbfgs failed to converge (status=1):\n",
            "STOP: TOTAL NO. of ITERATIONS REACHED LIMIT.\n",
            "\n",
            "Increase the number of iterations (max_iter) or scale the data as shown in:\n",
            "    https://scikit-learn.org/stable/modules/preprocessing.html\n",
            "Please also refer to the documentation for alternative solver options:\n",
            "    https://scikit-learn.org/stable/modules/linear_model.html#logistic-regression\n",
            "  extra_warning_msg=_LOGISTIC_SOLVER_CONVERGENCE_MSG)\n"
          ],
          "name": "stderr"
        },
        {
          "output_type": "execute_result",
          "data": {
            "text/plain": [
              "0.8043478260869565"
            ]
          },
          "metadata": {
            "tags": []
          },
          "execution_count": 6
        }
      ]
    }
  ]
}