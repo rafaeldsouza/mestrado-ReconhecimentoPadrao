{
  "nbformat": 4,
  "nbformat_minor": 0,
  "metadata": {
    "colab": {
      "name": "Teste-Aula-Reconhecimento-Padroes.ipynb",
      "provenance": [],
      "authorship_tag": "ABX9TyMvcy18eANCWl6Ghp++odCZ",
      "include_colab_link": true
    },
    "kernelspec": {
      "name": "python3",
      "display_name": "Python 3"
    }
  },
  "cells": [
    {
      "cell_type": "markdown",
      "metadata": {
        "id": "view-in-github",
        "colab_type": "text"
      },
      "source": [
        "<a href=\"https://colab.research.google.com/github/rafaeldsouza/mestrado-ReconhecimentoPadrao/blob/main/Semana1_Reconhecimento_Padroes.ipynb\" target=\"_parent\"><img src=\"https://colab.research.google.com/assets/colab-badge.svg\" alt=\"Open In Colab\"/></a>"
      ]
    },
    {
      "cell_type": "code",
      "metadata": {
        "id": "VAvTpml-HdCp"
      },
      "source": [
        "import pandas\n",
        "import jupyter\n",
        "import matplotlib\n",
        "import numpy\n",
        "import pandas\n",
        "import scipy\n",
        "import sklearn"
      ],
      "execution_count": 2,
      "outputs": []
    }
  ]
}