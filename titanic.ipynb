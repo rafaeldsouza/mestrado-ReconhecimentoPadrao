{
  "nbformat": 4,
  "nbformat_minor": 0,
  "metadata": {
    "language_info": {
      "codemirror_mode": {
        "name": "ipython",
        "version": 3
      },
      "file_extension": ".py",
      "mimetype": "text/x-python",
      "name": "python",
      "nbconvert_exporter": "python",
      "pygments_lexer": "ipython3",
      "version": "3.8.5-final"
    },
    "orig_nbformat": 2,
    "kernelspec": {
      "name": "python38564bitvenv8df5f652c965478ab2804a4e99998afa",
      "display_name": "Python 3.8.5 64-bit ('.venv')",
      "language": "python"
    },
    "colab": {
      "name": "titanic.ipynb",
      "provenance": [],
      "collapsed_sections": [],
      "include_colab_link": true
    }
  },
  "cells": [
    {
      "cell_type": "markdown",
      "metadata": {
        "id": "view-in-github",
        "colab_type": "text"
      },
      "source": [
        "<a href=\"https://colab.research.google.com/github/rafaeldsouza/mestrado-ReconhecimentoPadrao/blob/main/titanic.ipynb\" target=\"_parent\"><img src=\"https://colab.research.google.com/assets/colab-badge.svg\" alt=\"Open In Colab\"/></a>"
      ]
    },
    {
      "cell_type": "code",
      "metadata": {
        "id": "SOGDI-OymBE_"
      },
      "source": [
        "import pandas as pd\n",
        "train = pd.read_csv('train.csv')\n",
        "test = pd.read_csv('test.csv')\n",
        "X = train[list(test.columns)]\n",
        "y = train[train.columns[~train.columns.isin(test.columns)]]\n"
      ],
      "execution_count": 9,
      "outputs": []
    },
    {
      "cell_type": "code",
      "metadata": {
        "id": "-GUwlbSBmBFL"
      },
      "source": [
        "from sklearn.base import BaseEstimator, TransformerMixin\n",
        "\n",
        "def extraiPronome(nome):\n",
        "    return nome.split(',')[1].split('.')[0].strip()\n",
        "\n",
        "class AtributosDesejados(BaseEstimator, TransformerMixin):\n",
        "    def __init__(self, excluirName=True):\n",
        "        self.excluirName = excluirName\n",
        "    def fit(self, X, y=None):\n",
        "        self.colunasIndesejadas = ['PassengerId', 'Ticket', 'Cabin']\n",
        "        if self.excluirName:\n",
        "            self.colunasIndesejadas.append('Name')\n",
        "        return self\n",
        "    def transform(self, X, y=None):\n",
        "        Xdrop = X.drop(self.colunasIndesejadas,axis=1)\n",
        "        if 'Name' not in self.colunasIndesejadas:\n",
        "            Xdrop['Name'] = Xdrop['Name'].apply(extraiPronome)\n",
        "        return Xdrop\n"
      ],
      "execution_count": 10,
      "outputs": []
    },
    {
      "cell_type": "code",
      "metadata": {
        "id": "cjazwirMmBFN"
      },
      "source": [
        "from sklearn.base import BaseEstimator, TransformerMixin\n",
        "\n",
        "class AtributosNumericos(BaseEstimator, TransformerMixin):\n",
        "    def fit(self, X, y=None):\n",
        "        self.colunasNumericas = X.select_dtypes(include='number').columns\n",
        "        return self\n",
        "    def transform(self, X, y=None):\n",
        "        return X[self.colunasNumericas].to_numpy()\n"
      ],
      "execution_count": 11,
      "outputs": []
    },
    {
      "cell_type": "code",
      "metadata": {
        "id": "nN4FQ20ImBFN"
      },
      "source": [
        "from sklearn.base import BaseEstimator, TransformerMixin\n",
        "\n",
        "class AtributosCategoricos(BaseEstimator, TransformerMixin):\n",
        "    def fit(self, X, y=None):\n",
        "        self.colunasCategoricas = X.select_dtypes(include='object').columns\n",
        "        return self\n",
        "    def transform(self, X, y=None):\n",
        "        return X[self.colunasCategoricas].to_numpy()\n"
      ],
      "execution_count": 12,
      "outputs": []
    },
    {
      "cell_type": "code",
      "metadata": {
        "id": "8CkNdPMRmBFO"
      },
      "source": [
        "from sklearn.impute import SimpleImputer\n",
        "from sklearn.preprocessing import OneHotEncoder, StandardScaler\n",
        "from sklearn.pipeline import Pipeline, FeatureUnion\n",
        "\n",
        "trataAtributos = Pipeline([\n",
        "    ('unecaracteristicas', FeatureUnion([\n",
        "        ('pipenum', Pipeline([\n",
        "            ('atributos_numericos', AtributosNumericos()),\n",
        "            ('imputer', SimpleImputer(strategy='median')),\n",
        "            ('scaler', StandardScaler())\n",
        "        ])),\n",
        "        ('pipecat', Pipeline([\n",
        "            ('atributos_categoricos', AtributosCategoricos()),\n",
        "            ('imputer', SimpleImputer(strategy='most_frequent')),\n",
        "            ('encoder', OneHotEncoder(handle_unknown='ignore'))\n",
        "        ]))\n",
        "    ])),\n",
        "])\n"
      ],
      "execution_count": 13,
      "outputs": []
    },
    {
      "cell_type": "code",
      "metadata": {
        "colab": {
          "base_uri": "https://localhost:8080/"
        },
        "id": "qfxDb-b0HUU-",
        "outputId": "721d3cce-22d1-427a-9f0d-c39f7aa01d14"
      },
      "source": [
        "'''\n",
        "from sklearn.ensemble import RandomForestClassifier\n",
        "from sklearn.model_selection import GridSearchCV, cross_validate, RepeatedKFold\n",
        "from sklearn.ensemble import GradientBoostingClassifier\n",
        "import numpy as np\n",
        "\n",
        "pipetotal = Pipeline([\n",
        "    ('atributosDesejados', AtributosDesejados()),\n",
        "    ('trataAtributos', trataAtributos),\n",
        "    ('classificador',RandomForestClassifier())\n",
        "])\n",
        "\n",
        "parametros = {\n",
        "    'atributosDesejados__excluirName': [True, False],\n",
        "    'classificador__max_depth': [6]\n",
        "}\n",
        "modelo = GridSearchCV(pipetotal, param_grid=parametros, \n",
        "                         scoring='roc_auc_ovo_weighted',\n",
        "                         n_jobs=-1,\n",
        "                         refit=True)\n",
        "\n",
        "scores = cross_validate(modelo, X, y.values.ravel(),cv=RepeatedKFold())\n",
        "scores['test_score'], np.mean(scores['test_score']), np.std(scores['test_score'])\n",
        "'''"
      ],
      "execution_count": 91,
      "outputs": [
        {
          "output_type": "execute_result",
          "data": {
            "text/plain": [
              "(array([0.89692308, 0.83233613, 0.82966961, 0.8874092 , 0.86644385,\n",
              "        0.88518951, 0.8614418 , 0.86630361, 0.8552757 , 0.87215608,\n",
              "        0.83893281, 0.85327812, 0.89166776, 0.87929446, 0.87580214,\n",
              "        0.88846154, 0.86025794, 0.86492154, 0.856621  , 0.88485574,\n",
              "        0.91607595, 0.88400176, 0.84286115, 0.82133576, 0.87670335,\n",
              "        0.8960452 , 0.85855263, 0.84252427, 0.88472419, 0.8416028 ,\n",
              "        0.88139019, 0.92091097, 0.86268939, 0.84869033, 0.85081539,\n",
              "        0.88057185, 0.8614418 , 0.85339806, 0.88608414, 0.85753664,\n",
              "        0.86397436, 0.88375734, 0.86385296, 0.90016234, 0.86342305,\n",
              "        0.84157609, 0.88611887, 0.88419913, 0.86066253, 0.87008929]),\n",
              " 0.8686602677206748,\n",
              " 0.021133692737204855)"
            ]
          },
          "metadata": {
            "tags": []
          },
          "execution_count": 91
        }
      ]
    },
    {
      "cell_type": "code",
      "metadata": {
        "colab": {
          "base_uri": "https://localhost:8080/"
        },
        "id": "Elm2O_0GbA6J",
        "outputId": "557f0989-8bb5-4a2b-fa8c-873b4c421c66"
      },
      "source": [
        "from sklearn.ensemble import RandomForestClassifier\n",
        "from sklearn.model_selection import GridSearchCV, cross_validate, RepeatedKFold\n",
        "from sklearn.ensemble import GradientBoostingClassifier\n",
        "import numpy as np\n",
        "\n",
        "pipetotal = Pipeline([\n",
        "    ('atributosDesejados', AtributosDesejados()),\n",
        "    ('trataAtributos', trataAtributos),\n",
        "    ('classificador',GradientBoostingClassifier())\n",
        "])\n",
        "\n",
        "parametros = {\n",
        "    'atributosDesejados__excluirName': [True, False],\n",
        "    'classificador__max_depth': [6]\n",
        "}\n",
        "modelo = GridSearchCV(pipetotal, param_grid=parametros, \n",
        "                         scoring='roc_auc_ovo_weighted',\n",
        "                         n_jobs=-1,\n",
        "                         refit=True)\n",
        "\n",
        "scores = cross_validate(modelo, X, y.values.ravel(),cv=RepeatedKFold())\n",
        "scores['test_score'], np.mean(scores['test_score']), np.std(scores['test_score'])"
      ],
      "execution_count": 98,
      "outputs": [
        {
          "output_type": "execute_result",
          "data": {
            "text/plain": [
              "(array([0.84059078, 0.88596491, 0.86830357, 0.87369792, 0.85132289,\n",
              "        0.83205953, 0.87909483, 0.84585561, 0.89339806, 0.84543689,\n",
              "        0.89244265, 0.85975212, 0.85875668, 0.84239719, 0.87215608,\n",
              "        0.81506755, 0.88377445, 0.86130765, 0.86674734, 0.88779199,\n",
              "        0.87340085, 0.85307443, 0.83086158, 0.90529156, 0.86158755,\n",
              "        0.88656476, 0.83017152, 0.85314453, 0.86864177, 0.84106495,\n",
              "        0.86647122, 0.87394068, 0.86483957, 0.87771489, 0.86493808,\n",
              "        0.84555442, 0.87676482, 0.86343293, 0.83261494, 0.88710317,\n",
              "        0.88199627, 0.85873016, 0.88643128, 0.85497835, 0.84866275,\n",
              "        0.83878385, 0.86382924, 0.88153504, 0.85251142, 0.88567802]),\n",
              " 0.8633246666203263,\n",
              " 0.019590947725948275)"
            ]
          },
          "metadata": {
            "tags": []
          },
          "execution_count": 98
        }
      ]
    },
    {
      "cell_type": "code",
      "metadata": {
        "colab": {
          "base_uri": "https://localhost:8080/"
        },
        "id": "9cX0eZqYmBFQ",
        "outputId": "bb04b40b-fc79-4f11-b89f-07296f33c21d"
      },
      "source": [
        "modelo.fit(X,y)\n",
        "y_pred = modelo.predict(test)\n",
        "result = test[['PassengerId']]\n",
        "result['Survived'] = y_pred\n",
        "result.to_csv('submission.csv',index=False)"
      ],
      "execution_count": 99,
      "outputs": [
        {
          "output_type": "stream",
          "text": [
            "/usr/local/lib/python3.7/dist-packages/sklearn/ensemble/_gb.py:1454: DataConversionWarning: A column-vector y was passed when a 1d array was expected. Please change the shape of y to (n_samples, ), for example using ravel().\n",
            "  y = column_or_1d(y, warn=True)\n",
            "/usr/local/lib/python3.7/dist-packages/ipykernel_launcher.py:4: SettingWithCopyWarning: \n",
            "A value is trying to be set on a copy of a slice from a DataFrame.\n",
            "Try using .loc[row_indexer,col_indexer] = value instead\n",
            "\n",
            "See the caveats in the documentation: https://pandas.pydata.org/pandas-docs/stable/user_guide/indexing.html#returning-a-view-versus-a-copy\n",
            "  after removing the cwd from sys.path.\n"
          ],
          "name": "stderr"
        }
      ]
    }
  ]
}