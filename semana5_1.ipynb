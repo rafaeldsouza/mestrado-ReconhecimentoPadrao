{
  "nbformat": 4,
  "nbformat_minor": 0,
  "metadata": {
    "colab": {
      "name": "semana5_1.ipynb",
      "provenance": [],
      "collapsed_sections": [],
      "authorship_tag": "ABX9TyOtH7JZ+Ft8UbtnXxXqkX4n",
      "include_colab_link": true
    },
    "kernelspec": {
      "name": "python3",
      "display_name": "Python 3"
    },
    "language_info": {
      "name": "python"
    }
  },
  "cells": [
    {
      "cell_type": "markdown",
      "metadata": {
        "id": "view-in-github",
        "colab_type": "text"
      },
      "source": [
        "<a href=\"https://colab.research.google.com/github/rafaeldsouza/mestrado-ReconhecimentoPadrao/blob/main/semana5_1.ipynb\" target=\"_parent\"><img src=\"https://colab.research.google.com/assets/colab-badge.svg\" alt=\"Open In Colab\"/></a>"
      ]
    },
    {
      "cell_type": "markdown",
      "metadata": {
        "id": "CpdGU3Axo1A9"
      },
      "source": [
        "**Aluno:** Rafael de Souza Conceição\n",
        "\n",
        "**Matéria:**Reconhecimento de Padrões - Francisco de Assis Boldt\n"
      ]
    },
    {
      "cell_type": "markdown",
      "metadata": {
        "id": "LSpYc9gNr0wI"
      },
      "source": [
        "Crie a sua heurística para escolher a melhor característica para um nó de uma árvore de decisão e compare com a implementação feita nos vídeos postados nesse tópico aqui no AVA e com a implementação do scikit learn.\n",
        "\n",
        "Faça comparações plotando as regiões de decisão com resubstituição para a base iris e as características usadas nos vídeos.\n",
        "\n",
        "Também faça comparações usando validação cruzada com pelo menos 3 bases de classificação com atributos contínuos.\n",
        "\n",
        "Escreva um parágrafo expondo sua interpretação dos resultados obtidos."
      ]
    },
    {
      "cell_type": "code",
      "metadata": {
        "id": "Hn04LFvpj06l"
      },
      "source": [
        "from sklearn.metrics import accuracy_score\n",
        "from sklearn.tree import DecisionTreeClassifier\n",
        "import pandas as pd\n",
        "from sklearn.model_selection import cross_validate\n",
        "import numpy as np\n",
        "import matplotlib.pyplot as plt\n",
        "from collections import Counter\n",
        "from sklearn.base import BaseEstimator, ClassifierMixin\n",
        "import matplotlib.pyplot as plt"
      ],
      "execution_count": 65,
      "outputs": []
    },
    {
      "cell_type": "code",
      "metadata": {
        "colab": {
          "base_uri": "https://localhost:8080/"
        },
        "id": "jXrCopwNvkA1",
        "outputId": "1bf0fe7e-0c66-404a-8f0d-c24fd8083630"
      },
      "source": [
        "def impureza(y): #Gini\n",
        "    labels = list(set(y))\n",
        "    labels.sort()\n",
        "    probabilidades = np.zeros((len(labels),))\n",
        "    for i,k in enumerate(labels):\n",
        "        probabilidades[i] = sum(y==k)/len(y)\n",
        "    result = 1 - sum(probabilidades**2)\n",
        "    return result\n",
        "\n",
        "ytmp = y[:]\n",
        "valor = impureza(ytmp)\n",
        "valor"
      ],
      "execution_count": 52,
      "outputs": [
        {
          "output_type": "execute_result",
          "data": {
            "text/plain": [
              "0.6666666666666667"
            ]
          },
          "metadata": {
            "tags": []
          },
          "execution_count": 52
        }
      ]
    },
    {
      "cell_type": "code",
      "metadata": {
        "colab": {
          "base_uri": "https://localhost:8080/"
        },
        "id": "0HUc9JhRwnTA",
        "outputId": "9e6731c5-fffe-400c-9d7d-4ec8ac168653"
      },
      "source": [
        "def impurezaValor(x, y, valor):\n",
        "    maiores = x>valor\n",
        "    impurezaMaiores = impureza(y[maiores])\n",
        "    propMaiores = sum(maiores)/len(y)\n",
        "    impurezaMenores = impureza(y[~maiores])\n",
        "    propMenores = sum(~maiores)/len(y)\n",
        "    impurezaTotal = propMaiores*impurezaMaiores + propMenores*impurezaMenores\n",
        "    return impurezaTotal, impurezaMaiores, impurezaMenores\n",
        "impurezaValor(X[:,0], y, 2.5),impurezaValor(X[:,1], y, 2.5)"
      ],
      "execution_count": 53,
      "outputs": [
        {
          "output_type": "execute_result",
          "data": {
            "text/plain": [
              "((0.3333333333333333, 0.5, 0.0), (0.6666666666666667, 1, 0.6666666666666667))"
            ]
          },
          "metadata": {
            "tags": []
          },
          "execution_count": 53
        }
      ]
    },
    {
      "cell_type": "code",
      "metadata": {
        "id": "pkjKgdykfieD"
      },
      "source": [
        "def maisFrequente(y):\n",
        "    return Counter(y.flat).most_common(1)[0][0]\n",
        "\n",
        "class Arvore(BaseEstimator, ClassifierMixin):\n",
        "    def __init__(self):\n",
        "        self.caracteristica = 0\n",
        "    def fit(self, X, y):\n",
        "        self.valor = np.mean(X[:,self.caracteristica])\n",
        "        maiores = X[:,self.caracteristica] > self.valor\n",
        "        if sum(maiores)>0 and sum(~maiores)>0:\n",
        "            self.maiores = Arvore()\n",
        "            self.maiores.fit(X[maiores,:],y[maiores])\n",
        "            self.menores = Arvore()\n",
        "            self.menores.fit(X[~maiores,:],y[~maiores])\n",
        "        else:\n",
        "            self.resposta = maisFrequente(y)\n",
        "    def predict(self, X):\n",
        "        y = np.empty((X.shape[0]))\n",
        "        if hasattr(self, 'resposta'):\n",
        "            y[:] = self.resposta\n",
        "        else:\n",
        "            maiores = X[:,self.caracteristica] > self.valor\n",
        "            y[maiores] = self.maiores.predict(X[maiores,:])\n",
        "            y[~maiores] = self.menores.predict(X[~maiores,:])\n",
        "        return y"
      ],
      "execution_count": 54,
      "outputs": []
    },
    {
      "cell_type": "code",
      "metadata": {
        "id": "GLWN3PRsjOBu"
      },
      "source": [
        "def plotDecisao(modelo, X, y):\n",
        "    modelo.fit(X, y)\n",
        "    x0s = np.linspace(np.min(X[:,0])-0.2, np.max(X[:,0])+0.2, 100)\n",
        "    x1s = np.linspace(np.min(X[:,1])-0.2, np.max(X[:,1])+0.2, 100)\n",
        "    x0, x1 = np.meshgrid(x0s, x1s)\n",
        "    Xdec = np.c_[x0.ravel(), x1.ravel()]\n",
        "    ypred = modelo.predict(Xdec)\n",
        "    plt.contourf(x0, x1, ypred.reshape(x0.shape), alpha=0.25)\n",
        "    for k in set(y):\n",
        "        plt.plot(X[:,0][y==k], X[:,1][y==k], 'o', label=f\"{iris.target_names[k]} [{k}]\")\n",
        "    plt.xlabel(f\"X[0]: {iris.feature_names[0]}\")\n",
        "    plt.ylabel(f\"X[1]: {iris.feature_names[1]}\")\n",
        "    plt.show()"
      ],
      "execution_count": 55,
      "outputs": []
    },
    {
      "cell_type": "code",
      "metadata": {
        "colab": {
          "base_uri": "https://localhost:8080/"
        },
        "id": "Bjfsdd5-j_co",
        "outputId": "58ef3b89-98ae-4e9a-8e20-77f1707d2fa3"
      },
      "source": [
        "scores = cross_validate(Arvore(), X, y)\n",
        "scores['test_score'], np.mean(scores['test_score'])"
      ],
      "execution_count": 56,
      "outputs": [
        {
          "output_type": "execute_result",
          "data": {
            "text/plain": [
              "(array([0.93333333, 0.93333333, 0.8       , 0.93333333, 1.        ]),\n",
              " 0.9200000000000002)"
            ]
          },
          "metadata": {
            "tags": []
          },
          "execution_count": 56
        }
      ]
    },
    {
      "cell_type": "markdown",
      "metadata": {
        "id": "WLlIEM7HIezY"
      },
      "source": [
        "### Heuriscica"
      ]
    },
    {
      "cell_type": "code",
      "metadata": {
        "colab": {
          "base_uri": "https://localhost:8080/"
        },
        "id": "_wL2M2R9CB1b",
        "outputId": "90f755ff-6e08-4153-f786-21d03c8a29bc"
      },
      "source": [
        "def melhorValor(x, y):\n",
        "    result = None\n",
        "    menorImpureza = float('inf')\n",
        "    xmax = np.max(x)\n",
        "    xmin = np.min(x)\n",
        "    while True:\n",
        "        valor = (xmin+xmax)/2\n",
        "        impTotal, impMaiores, impMenores = impurezaValor(x, y, valor)\n",
        "        if impTotal < menorImpureza:\n",
        "            menorImpureza = impTotal\n",
        "            result = valor\n",
        "            if impMaiores == 0 or impMenores == 0:\n",
        "                break\n",
        "            if impMaiores < impMenores:\n",
        "                xmin = valor\n",
        "            else:\n",
        "                xmax = valor\n",
        "        else:\n",
        "            break\n",
        "    return result, menorImpureza\n",
        "melhorValor(X[:,0], y)"
      ],
      "execution_count": 57,
      "outputs": [
        {
          "output_type": "execute_result",
          "data": {
            "text/plain": [
              "(2.475, 0.3333333333333333)"
            ]
          },
          "metadata": {
            "tags": []
          },
          "execution_count": 57
        }
      ]
    },
    {
      "cell_type": "code",
      "metadata": {
        "colab": {
          "base_uri": "https://localhost:8080/"
        },
        "id": "bucXucpRjkDX",
        "outputId": "d6f31123-07f0-40d2-cbc0-4dc6fd296526"
      },
      "source": [
        "def melhorCaracteristica(X, y):\n",
        "    impurezas = []\n",
        "    valores = []\n",
        "    for caracteristica in range(X.shape[1]):\n",
        "        valor, imp = melhorValor(X[:,caracteristica], y)\n",
        "        impurezas.append(imp)\n",
        "        valores.append(valor)\n",
        "    impurezas = np.array(impurezas)\n",
        "    caracteristica = np.argmin(impurezas)\n",
        "    return caracteristica, valores[caracteristica], impurezas[caracteristica]\n",
        "print(melhorCaracteristica(X,y))"
      ],
      "execution_count": 58,
      "outputs": [
        {
          "output_type": "stream",
          "text": [
            "(0, 2.475, 0.3333333333333333)\n"
          ],
          "name": "stdout"
        }
      ]
    },
    {
      "cell_type": "code",
      "metadata": {
        "id": "B38MmdPyLZin"
      },
      "source": [
        "def ExecutarModelo(Modelos,xParam,yParam,allInformation=True):\n",
        "  for modelo in Modelos: \n",
        "    modelo[0].fit(xParam,yParam)\n",
        "    ypred = modelo[0].predict(xParam)\n",
        "    scores = cross_validate(modelo[0], xParam, yParam)\n",
        "    print(f\"Modelo = {modelo[1]}\")   \n",
        "    print(f\"mean score -> {np.mean(scores['test_score'])}\")\n",
        "    if allInformation:\n",
        "      print(f\"accuracy -> {accuracy_score(yParam, ypred)}\")\n",
        "      plotDecisao(modelo[0], xParam,yParam)\n",
        "    print(\"-----------------------------------------------\")\n",
        "    print(\"-----------------------------------------------\")\n",
        "    \n",
        "   \n",
        "  #return accuracy_score(yParam, ypred), ypred"
      ],
      "execution_count": 97,
      "outputs": []
    },
    {
      "cell_type": "code",
      "metadata": {
        "id": "K3RAuhdXH3hI"
      },
      "source": [
        "class ArvoreHeuristica(BaseEstimator, ClassifierMixin):\n",
        "    def fit(self, X, y):\n",
        "        self.caracteristica, self.valor, self.imp = melhorCaracteristica(X,y)\n",
        "        maiores = X[:,self.caracteristica] > self.valor\n",
        "        if sum(maiores)>0 and sum(~maiores)>0:\n",
        "            self.maiores = ArvoreHeuristica()\n",
        "            self.maiores.fit(X[maiores,:],y[maiores])\n",
        "            self.menores = ArvoreHeuristica()\n",
        "            self.menores.fit(X[~maiores,:],y[~maiores])\n",
        "        else:\n",
        "            self.resposta = maisFrequente(y)\n",
        "    def predict(self, X):\n",
        "        y = np.empty((X.shape[0]))\n",
        "        if hasattr(self, 'resposta'):\n",
        "            y[:] = self.resposta\n",
        "        else:\n",
        "            maiores = X[:,self.caracteristica] > self.valor\n",
        "            y[maiores] = self.maiores.predict(X[maiores,:])\n",
        "            y[~maiores] = self.menores.predict(X[~maiores,:])\n",
        "        return y\n"
      ],
      "execution_count": 60,
      "outputs": []
    },
    {
      "cell_type": "markdown",
      "metadata": {
        "id": "wBOU6eM0WuXB"
      },
      "source": [
        "### Resultados Iris"
      ]
    },
    {
      "cell_type": "code",
      "metadata": {
        "colab": {
          "base_uri": "https://localhost:8080/",
          "height": 1000
        },
        "id": "D_R4ME7vZraA",
        "outputId": "8f3a45b2-7009-44a5-b5dc-48220a5cb96a"
      },
      "source": [
        "from sklearn.datasets import load_iris\n",
        "iris = load_iris()\n",
        "Xiris, yiris = iris.data[:,2:], iris.target\n",
        "vetModelos = [[Arvore(),\"Arvore\"],[ArvoreHeuristica(),\"Arvore Heuristica\"],\n",
        "              [DecisionTreeClassifier(criterion='gini'),\"DecisionTree GINI\"],\n",
        "              [DecisionTreeClassifier(criterion='entropy'),\"DecisionTree ENTROPY\"]]\n",
        "ExecutarModelo(vetModelos,Xiris,yiris)"
      ],
      "execution_count": 98,
      "outputs": [
        {
          "output_type": "stream",
          "text": [
            "Modelo = Arvore\n",
            "mean score -> 0.9200000000000002\n",
            "accuracy -> 0.9533333333333334\n"
          ],
          "name": "stdout"
        },
        {
          "output_type": "display_data",
          "data": {
            "image/png": "[encoded data removed]",
            "text/plain": [
              "<Figure size 432x288 with 1 Axes>"
            ]
          },
          "metadata": {
            "tags": [],
            "needs_background": "light"
          }
        },
        {
          "output_type": "stream",
          "text": [
            "-----------------------------------------------\n",
            "-----------------------------------------------\n",
            "Modelo = Arvore Heuristica\n",
            "mean score -> 0.9533333333333334\n",
            "accuracy -> 0.9933333333333333\n"
          ],
          "name": "stdout"
        },
        {
          "output_type": "display_data",
          "data": {
            "image/png": "[encoded data removed]",
            "text/plain": [
              "<Figure size 432x288 with 1 Axes>"
            ]
          },
          "metadata": {
            "tags": [],
            "needs_background": "light"
          }
        },
        {
          "output_type": "stream",
          "text": [
            "-----------------------------------------------\n",
            "-----------------------------------------------\n",
            "Modelo = DecisionTree GINI\n",
            "mean score -> 0.9533333333333334\n",
            "accuracy -> 0.9933333333333333\n"
          ],
          "name": "stdout"
        },
        {
          "output_type": "display_data",
          "data": {
            "image/png": "[encoded data removed]",
            "text/plain": [
              "<Figure size 432x288 with 1 Axes>"
            ]
          },
          "metadata": {
            "tags": [],
            "needs_background": "light"
          }
        },
        {
          "output_type": "stream",
          "text": [
            "-----------------------------------------------\n",
            "-----------------------------------------------\n",
            "Modelo = DecisionTree ENTROPY\n",
            "mean score -> 0.9533333333333334\n",
            "accuracy -> 0.9933333333333333\n"
          ],
          "name": "stdout"
        },
        {
          "output_type": "display_data",
          "data": {
            "image/png": "[encoded data removed]",
            "text/plain": [
              "<Figure size 432x288 with 1 Axes>"
            ]
          },
          "metadata": {
            "tags": [],
            "needs_background": "light"
          }
        },
        {
          "output_type": "stream",
          "text": [
            "-----------------------------------------------\n",
            "-----------------------------------------------\n"
          ],
          "name": "stdout"
        }
      ]
    },
    {
      "cell_type": "markdown",
      "metadata": {
        "id": "WN-tWxxmjZEH"
      },
      "source": [
        "### Resultados Wine"
      ]
    },
    {
      "cell_type": "code",
      "metadata": {
        "id": "_jSCElIZkbCD"
      },
      "source": [
        "from sklearn.datasets import load_wine\n",
        "wine = load_wine()\n",
        "\n",
        "Xwine, ywine = wine.data, wine.target"
      ],
      "execution_count": 99,
      "outputs": []
    },
    {
      "cell_type": "code",
      "metadata": {
        "colab": {
          "base_uri": "https://localhost:8080/"
        },
        "id": "orfwuXb3kcHp",
        "outputId": "31204e88-25dd-4a0e-e97e-b98619716849"
      },
      "source": [
        "Xwine.shape,ywine.shape"
      ],
      "execution_count": 100,
      "outputs": [
        {
          "output_type": "execute_result",
          "data": {
            "text/plain": [
              "((178, 13), (178,))"
            ]
          },
          "metadata": {
            "tags": []
          },
          "execution_count": 100
        }
      ]
    },
    {
      "cell_type": "code",
      "metadata": {
        "colab": {
          "base_uri": "https://localhost:8080/"
        },
        "id": "UfuknIvdjcoq",
        "outputId": "2abcd6d1-bf58-41dd-a832-42f398d542de"
      },
      "source": [
        "ExecutarModelo(vetModelos,Xwine,ywine,False)"
      ],
      "execution_count": 101,
      "outputs": [
        {
          "output_type": "stream",
          "text": [
            "Modelo = Arvore\n",
            "mean score -> 0.5958730158730159\n",
            "-----------------------------------------------\n",
            "-----------------------------------------------\n",
            "Modelo = Arvore Heuristica\n",
            "mean score -> 0.8942857142857144\n",
            "-----------------------------------------------\n",
            "-----------------------------------------------\n",
            "Modelo = DecisionTree GINI\n",
            "mean score -> 0.8765079365079365\n",
            "-----------------------------------------------\n",
            "-----------------------------------------------\n",
            "Modelo = DecisionTree ENTROPY\n",
            "mean score -> 0.8992063492063492\n",
            "-----------------------------------------------\n",
            "-----------------------------------------------\n"
          ],
          "name": "stdout"
        }
      ]
    },
    {
      "cell_type": "markdown",
      "metadata": {
        "id": "5jeYDYt6nGHD"
      },
      "source": [
        "### Resultado Breast Cancer"
      ]
    },
    {
      "cell_type": "code",
      "metadata": {
        "colab": {
          "base_uri": "https://localhost:8080/"
        },
        "id": "-19t6__4nLAZ",
        "outputId": "7e410f08-1490-40ec-a98e-adda5c0efc69"
      },
      "source": [
        "from sklearn.datasets import load_breast_cancer\n",
        "breast_cancer = load_breast_cancer()\n",
        "Xbc, ybc = breast_cancer.data, breast_cancer.target\n",
        "ExecutarModelo(vetModelos,Xbc,ybc,False)"
      ],
      "execution_count": 102,
      "outputs": [
        {
          "output_type": "stream",
          "text": [
            "Modelo = Arvore\n",
            "mean score -> 0.815463437354448\n",
            "-----------------------------------------------\n",
            "-----------------------------------------------\n",
            "Modelo = Arvore Heuristica\n",
            "mean score -> 0.9191429902189101\n",
            "-----------------------------------------------\n",
            "-----------------------------------------------\n",
            "Modelo = DecisionTree GINI\n",
            "mean score -> 0.9103244837758112\n",
            "-----------------------------------------------\n",
            "-----------------------------------------------\n",
            "Modelo = DecisionTree ENTROPY\n",
            "mean score -> 0.9261915851575843\n",
            "-----------------------------------------------\n",
            "-----------------------------------------------\n"
          ],
          "name": "stdout"
        }
      ]
    },
    {
      "cell_type": "markdown",
      "metadata": {
        "id": "3Qk-M_lto9Nz"
      },
      "source": [
        "### Resultado Digits"
      ]
    },
    {
      "cell_type": "code",
      "metadata": {
        "id": "DRzc-aS4o8iU"
      },
      "source": [
        ""
      ],
      "execution_count": null,
      "outputs": []
    },
    {
      "cell_type": "code",
      "metadata": {
        "colab": {
          "base_uri": "https://localhost:8080/"
        },
        "id": "4ZGz66umn0yd",
        "outputId": "bf03bb4e-ddfa-4326-cc08-781e83f40ece"
      },
      "source": [
        "\n",
        "from sklearn.datasets import load_digits\n",
        "digitis = load_digits()\n",
        "Xd, yd = digitis.data, digitis.target\n",
        "ExecutarModelo(vetModelos,Xd,yd,False)"
      ],
      "execution_count": 103,
      "outputs": [
        {
          "output_type": "stream",
          "text": [
            "Modelo = Arvore\n",
            "mean score -> 0.10128133704735376\n",
            "-----------------------------------------------\n",
            "-----------------------------------------------\n",
            "Modelo = Arvore Heuristica\n",
            "mean score -> 0.7974636335499845\n",
            "-----------------------------------------------\n",
            "-----------------------------------------------\n",
            "Modelo = DecisionTree GINI\n",
            "mean score -> 0.7885793871866296\n",
            "-----------------------------------------------\n",
            "-----------------------------------------------\n",
            "Modelo = DecisionTree ENTROPY\n",
            "mean score -> 0.8124976787372331\n",
            "-----------------------------------------------\n",
            "-----------------------------------------------\n"
          ],
          "name": "stdout"
        }
      ]
    },
    {
      "cell_type": "markdown",
      "metadata": {
        "id": "LbMTI-ffp_HC"
      },
      "source": [
        "## Conclusão\n"
      ]
    },
    {
      "cell_type": "markdown",
      "metadata": {
        "id": "oBwxjlUvqC1O"
      },
      "source": [
        "Ao analisar os resultados da base Iris, obtive dados muitos parecidos da as arvores de decisão heristica desenvolvida com as do sklearn, porem como o resultado se aprocimaram muito do 100% acreito que pode ter ocorrido um superajustamento que pode ter ocorrido por falta de um tratamento nos dados.\n",
        "\n",
        "Os resultados obtidos com os outros dataset mostraram resultados com um pouco mais de variações e por ter usado dataset com mais caracteristicas os dados sofreram menos com o superajustamento."
      ]
    },
    {
      "cell_type": "code",
      "metadata": {
        "id": "ODQSitIDtEt1"
      },
      "source": [
        ""
      ],
      "execution_count": null,
      "outputs": []
    }
  ]
}